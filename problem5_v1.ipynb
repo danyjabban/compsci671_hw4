{
  "cells": [
    {
      "cell_type": "markdown",
      "metadata": {
        "id": "h0I271AG_StW"
      },
      "source": [
        "# 5 {-}"
      ]
    },
    {
      "cell_type": "markdown",
      "metadata": {
        "id": "gFohyAgC_NTn"
      },
      "source": [
        "## 5.2 {-}\n"
      ]
    },
    {
      "cell_type": "code",
      "execution_count": 1,
      "metadata": {
        "id": "6BPDD4_4uIg6"
      },
      "outputs": [],
      "source": [
        "import torch\n",
        "import torch.nn as nn\n",
        "import torch.nn.functional as F\n",
        "import torchvision\n",
        "import torchvision.transforms as transforms\n",
        "import torch.optim as optim\n",
        "import matplotlib.pyplot as plt\n",
        "import numpy as np\n",
        "from torch.utils.data.dataset import random_split\n",
        "from torchvision import datasets\n",
        "from sklearn.metrics import confusion_matrix\n",
        "import PIL"
      ]
    },
    {
      "cell_type": "code",
      "execution_count": 2,
      "metadata": {
        "id": "FgAwbQD9uk3c"
      },
      "outputs": [],
      "source": [
        "class Net(nn.Module):\n",
        "    def __init__(self):\n",
        "        super(Net, self).__init__()\n",
        "        self.conv1 = nn.Conv2d(3, 8, 5)\n",
        "        self.conv2 = nn.Conv2d(8, 16, 3)\n",
        "        self.bn1 = nn.BatchNorm2d(8)\n",
        "        self.bn2 = nn.BatchNorm2d(16)\n",
        "        self.fc1 = nn.Linear(16*6*6, 120)\n",
        "        self.fc2 = nn.Linear(120, 84)\n",
        "        self.fc3 = nn.Linear(84, 10)\n",
        "\n",
        "    def forward(self, x):\n",
        "        out = F.relu(self.bn1(self.conv1(x)))\n",
        "        out = F.max_pool2d(out, 2)\n",
        "        out = F.relu(self.bn2(self.conv2(out)))\n",
        "        out = F.max_pool2d(out, 2)\n",
        "        out = out.view(out.size(0), -1)\n",
        "        out = F.relu(self.fc1(out))\n",
        "        out = F.relu(self.fc2(out))\n",
        "        out = self.fc3(out)\n",
        "        return out"
      ]
    },
    {
      "cell_type": "code",
      "execution_count": 3,
      "metadata": {
        "colab": {
          "base_uri": "https://localhost:8080/",
          "height": 0
        },
        "id": "kZfeDA6EvFYB",
        "outputId": "683f5d4c-22ba-41b1-aaf4-5c6a4c5f5d2d"
      },
      "outputs": [
        {
          "name": "stdout",
          "output_type": "stream",
          "text": [
            "Train on CPU...\n"
          ]
        }
      ],
      "source": [
        "##Do Not Touch This Cell\n",
        "\n",
        "device = 'cuda' if torch.cuda.is_available() else 'cpu'\n",
        "net = Net().to(device)\n",
        "optimizer = optim.SGD(net.parameters(), lr=0.01, momentum=0.5)\n",
        "if device =='cuda':\n",
        "    print(\"Train on GPU...\")\n",
        "else:\n",
        "    print(\"Train on CPU...\")"
      ]
    },
    {
      "cell_type": "code",
      "execution_count": 4,
      "metadata": {
        "colab": {
          "base_uri": "https://localhost:8080/",
          "height": 0
        },
        "id": "U19Jv_CivI1g",
        "outputId": "c520b3a6-d5a2-46bc-d51a-67d7e688d57f"
      },
      "outputs": [
        {
          "data": {
            "text/plain": [
              "<torch._C.Generator at 0x7f6622de6670>"
            ]
          },
          "execution_count": 4,
          "metadata": {},
          "output_type": "execute_result"
        }
      ],
      "source": [
        "##Do Not Touch This Cell\n",
        "max_epochs = 50\n",
        "\n",
        "random_seed = 671\n",
        "torch.manual_seed(random_seed)"
      ]
    },
    {
      "cell_type": "code",
      "execution_count": 5,
      "metadata": {
        "colab": {
          "base_uri": "https://localhost:8080/",
          "height": 103,
          "referenced_widgets": [
            "bd916c5e3ff440839e10564b7700843e",
            "b91d4be04fa6444f8020c0644ec5b66e",
            "53e7f739be9b475da6c8c8b15c68edbd",
            "30c9a4be73c24e07a68831722f6d49ae",
            "22332057760f40ab8e37c0fb3d95e110",
            "540201873cfc4d94ab7366b1a2da6658",
            "6a56c1174a3444699a5cea69afe310ba",
            "d4984868e6294e30aa8ccc65084cf23e",
            "5cb884a9eee04e48b6023b760085c840",
            "d26221069b594996b0459d887b34c41a",
            "3338858814174eb1aa88e361d4784360"
          ]
        },
        "id": "eJCgNWtMvNE0",
        "outputId": "0397cc84-50ac-42b0-e691-5a839df6e89f"
      },
      "outputs": [
        {
          "name": "stdout",
          "output_type": "stream",
          "text": [
            "Downloading https://www.cs.toronto.edu/~kriz/cifar-10-python.tar.gz to ./data/cifar-10-python.tar.gz\n"
          ]
        },
        {
          "data": {
            "application/vnd.jupyter.widget-view+json": {
              "model_id": "bd916c5e3ff440839e10564b7700843e",
              "version_major": 2,
              "version_minor": 0
            },
            "text/plain": [
              "  0%|          | 0/170498071 [00:00<?, ?it/s]"
            ]
          },
          "metadata": {},
          "output_type": "display_data"
        },
        {
          "name": "stdout",
          "output_type": "stream",
          "text": [
            "Extracting ./data/cifar-10-python.tar.gz to ./data\n",
            "Files already downloaded and verified\n"
          ]
        }
      ],
      "source": [
        "train_transform = transforms.Compose(\n",
        "     [transforms.ToTensor(),\n",
        "     transforms.Normalize((0.4914, 0.4822, 0.4465), (0.2023, 0.1994, 0.2010))])\n",
        "\n",
        "test_transform = transforms.Compose(\n",
        "     [transforms.ToTensor(),\n",
        "     transforms.Normalize((0.4914, 0.4822, 0.4465), (0.2023, 0.1994, 0.2010))])\n",
        "\n",
        "dataset = torchvision.datasets.CIFAR10(root='./data', train=True, download=True, transform=train_transform)\n",
        "##TODO: Split the set into 80% train, 20% validation (there are 50K total images)\n",
        "train_num = 40000\n",
        "val_num = 10000\n",
        "train_set, val_set = random_split(dataset, [train_num, val_num])\n",
        "\n",
        "train_loader = torch.utils.data.DataLoader(train_set, batch_size=128, shuffle=True)\n",
        "val_loader = torch.utils.data.DataLoader(val_set, batch_size=128, shuffle=False)\n",
        "\n",
        "test_set = torchvision.datasets.CIFAR10(root='./data', train=False, download=True, transform=test_transform)\n",
        "test_loader = torch.utils.data.DataLoader(test_set, batch_size=1, shuffle=False)\n",
        "\n",
        "classes = ['plane', 'car', 'bird', 'cat', 'deer', 'dog', 'frog', 'horse', 'ship', 'truck']"
      ]
    },
    {
      "cell_type": "code",
      "execution_count": 6,
      "metadata": {
        "colab": {
          "base_uri": "https://localhost:8080/",
          "height": 0
        },
        "id": "meg5cVytvgBb",
        "outputId": "e4ac8435-7737-41c4-ae48-f12a6cd89a63"
      },
      "outputs": [
        {
          "name": "stdout",
          "output_type": "stream",
          "text": [
            "[epoch 1] loss: 0.01562 accuracy: 0.2737 val loss: 0.01356 val accuracy: 0.3622\n",
            "[epoch 2] loss: 0.01228 accuracy: 0.4197 val loss: 0.01222 val accuracy: 0.4309\n",
            "[epoch 3] loss: 0.01096 accuracy: 0.4912 val loss: 0.01091 val accuracy: 0.5099\n",
            "[epoch 4] loss: 0.01022 accuracy: 0.5332 val loss: 0.01033 val accuracy: 0.5298\n",
            "[epoch 5] loss: 0.00971 accuracy: 0.5579 val loss: 0.01004 val accuracy: 0.5465\n",
            "[epoch 6] loss: 0.00931 accuracy: 0.5786 val loss: 0.00995 val accuracy: 0.5652\n",
            "[epoch 7] loss: 0.00897 accuracy: 0.5954 val loss: 0.00923 val accuracy: 0.5867\n",
            "[epoch 8] loss: 0.00866 accuracy: 0.6098 val loss: 0.00915 val accuracy: 0.5899\n",
            "[epoch 9] loss: 0.00839 accuracy: 0.6216 val loss: 0.00915 val accuracy: 0.5926\n",
            "[epoch 10] loss: 0.00817 accuracy: 0.6301 val loss: 0.00872 val accuracy: 0.6126\n",
            "[epoch 11] loss: 0.00796 accuracy: 0.6413 val loss: 0.00880 val accuracy: 0.6101\n",
            "[epoch 12] loss: 0.00771 accuracy: 0.6536 val loss: 0.00830 val accuracy: 0.6332\n",
            "[epoch 13] loss: 0.00753 accuracy: 0.6634 val loss: 0.00831 val accuracy: 0.6355\n",
            "[epoch 14] loss: 0.00737 accuracy: 0.6693 val loss: 0.00833 val accuracy: 0.6414\n",
            "[epoch 15] loss: 0.00719 accuracy: 0.6756 val loss: 0.00814 val accuracy: 0.6330\n",
            "[epoch 16] loss: 0.00704 accuracy: 0.6834 val loss: 0.00788 val accuracy: 0.6531\n",
            "[epoch 17] loss: 0.00684 accuracy: 0.6899 val loss: 0.00788 val accuracy: 0.6523\n",
            "[epoch 18] loss: 0.00670 accuracy: 0.6977 val loss: 0.00779 val accuracy: 0.6599\n",
            "[epoch 19] loss: 0.00656 accuracy: 0.7049 val loss: 0.00771 val accuracy: 0.6628\n",
            "[epoch 20] loss: 0.00642 accuracy: 0.7117 val loss: 0.00799 val accuracy: 0.6513\n",
            "[epoch 21] loss: 0.00624 accuracy: 0.7221 val loss: 0.00775 val accuracy: 0.6601\n",
            "[epoch 22] loss: 0.00612 accuracy: 0.7272 val loss: 0.00769 val accuracy: 0.6620\n",
            "[epoch 23] loss: 0.00599 accuracy: 0.7312 val loss: 0.00755 val accuracy: 0.6709\n",
            "[epoch 24] loss: 0.00585 accuracy: 0.7389 val loss: 0.00794 val accuracy: 0.6567\n",
            "[epoch 25] loss: 0.00574 accuracy: 0.7409 val loss: 0.00752 val accuracy: 0.6766\n",
            "[epoch 26] loss: 0.00557 accuracy: 0.7508 val loss: 0.00772 val accuracy: 0.6663\n",
            "[epoch 27] loss: 0.00546 accuracy: 0.7554 val loss: 0.00767 val accuracy: 0.6683\n",
            "[epoch 28] loss: 0.00532 accuracy: 0.7594 val loss: 0.00749 val accuracy: 0.6779\n",
            "[epoch 29] loss: 0.00518 accuracy: 0.7651 val loss: 0.00769 val accuracy: 0.6722\n",
            "[epoch 30] loss: 0.00508 accuracy: 0.7718 val loss: 0.00754 val accuracy: 0.6791\n",
            "[epoch 31] loss: 0.00493 accuracy: 0.7773 val loss: 0.00806 val accuracy: 0.6678\n",
            "[epoch 32] loss: 0.00482 accuracy: 0.7832 val loss: 0.00757 val accuracy: 0.6788\n",
            "[epoch 33] loss: 0.00467 accuracy: 0.7917 val loss: 0.00798 val accuracy: 0.6659\n",
            "[epoch 34] loss: 0.00458 accuracy: 0.7940 val loss: 0.00816 val accuracy: 0.6649\n",
            "[epoch 35] loss: 0.00449 accuracy: 0.8003 val loss: 0.00814 val accuracy: 0.6725\n",
            "[epoch 36] loss: 0.00433 accuracy: 0.8076 val loss: 0.00814 val accuracy: 0.6687\n",
            "[epoch 37] loss: 0.00421 accuracy: 0.8126 val loss: 0.00812 val accuracy: 0.6723\n",
            "[epoch 38] loss: 0.00410 accuracy: 0.8165 val loss: 0.00849 val accuracy: 0.6655\n",
            "[epoch 39] loss: 0.00400 accuracy: 0.8217 val loss: 0.00830 val accuracy: 0.6687\n",
            "[epoch 40] loss: 0.00388 accuracy: 0.8276 val loss: 0.00840 val accuracy: 0.6703\n",
            "[epoch 41] loss: 0.00376 accuracy: 0.8313 val loss: 0.00836 val accuracy: 0.6766\n",
            "[epoch 42] loss: 0.00364 accuracy: 0.8377 val loss: 0.00891 val accuracy: 0.6630\n",
            "[epoch 43] loss: 0.00352 accuracy: 0.8429 val loss: 0.00891 val accuracy: 0.6645\n",
            "[epoch 44] loss: 0.00343 accuracy: 0.8466 val loss: 0.00870 val accuracy: 0.6738\n",
            "[epoch 45] loss: 0.00335 accuracy: 0.8513 val loss: 0.00892 val accuracy: 0.6726\n",
            "[epoch 46] loss: 0.00325 accuracy: 0.8548 val loss: 0.00920 val accuracy: 0.6691\n",
            "[epoch 47] loss: 0.00314 accuracy: 0.8607 val loss: 0.00922 val accuracy: 0.6688\n",
            "[epoch 48] loss: 0.00308 accuracy: 0.8619 val loss: 0.00983 val accuracy: 0.6600\n",
            "[epoch 49] loss: 0.00298 accuracy: 0.8671 val loss: 0.01096 val accuracy: 0.6355\n",
            "[epoch 50] loss: 0.00286 accuracy: 0.8728 val loss: 0.00946 val accuracy: 0.6709\n"
          ]
        }
      ],
      "source": [
        "loss_list, acc_list = [], []\n",
        "loss_list_val, acc_list_val = [], []\n",
        "criterion = nn.CrossEntropyLoss()\n",
        "\n",
        "for epoch in range(max_epochs):\n",
        "    #TODO: set the net to train mode:\n",
        "    net.train()\n",
        "\n",
        "    epoch_loss = 0.0\n",
        "    correct = 0\n",
        "    for batch_idx, (data, labels) in enumerate(train_loader):\n",
        "        data, labels = data.to(device), labels.to(device)    \n",
        "\n",
        "        optimizer.zero_grad()\n",
        "        ##TODO: pass the data into the network and store the output\n",
        "        output = net(data)\n",
        "\n",
        "        ##TODO: Calculate the cross entropy loss between the output and target\n",
        "        loss = criterion(output, labels) \n",
        "  \n",
        "        ##TODO: Perform backpropagation\n",
        "        loss.backward()\n",
        "        optimizer.step()\n",
        "\n",
        "        ##TODO: Get the prediction from the output\n",
        "        preds = output.argmax(axis=1)\n",
        "        \n",
        "        ##TODO: Calculate the correct number and add the number to correct\n",
        "        temp_cor = np.count_nonzero(labels - preds==0)\n",
        "        correct += temp_cor\n",
        "\n",
        "        ##TODO: Add the loss to epoch_loss.\n",
        "        epoch_loss += loss #.item()\n",
        "\n",
        "    ##TODO: calculate the average loss\n",
        "    #avg_loss = epoch_loss/len(train_loader)\n",
        "    avg_loss = epoch_loss/40000\n",
        "\n",
        "    ##TODO: calculate the average accuracy\n",
        "    #avg_acc = correct/(len(labels) * len(train_loader))\n",
        "    avg_acc = correct/40000\n",
        "\n",
        "    ##TODO: append average epoch loss to loss list\n",
        "    loss_list.append(avg_loss)\n",
        "\n",
        "    ##TODO: append average accuracy to accuracy list\n",
        "    acc_list.append(avg_acc)\n",
        "\n",
        "    # validation\n",
        "    ##TODO: set the model to eval mode\n",
        "    net.eval()\n",
        "\n",
        "    with torch.no_grad():\n",
        "        loss_val = 0.0\n",
        "        correct_val = 0\n",
        "        for batch_idx, (data, labels) in enumerate(val_loader):\n",
        "            data, labels = data.to(device), labels.to(device)\n",
        "            ##TODO: pass the data into the network and store the output\n",
        "            output = net(data)\n",
        "\n",
        "            ##TODO: Calculate the cross entropy loss between the output and target \n",
        "            loss = criterion(output, labels)\n",
        "\n",
        "            ##TODO: Get the prediction from the output\n",
        "            _,preds = torch.max(output.data, 1)\n",
        "\n",
        "            ##TODO: Calculate the correct number and add the number to correct_val\n",
        "            correct_val += (preds == labels).sum().item()\n",
        "\n",
        "            ##TODO: Add the loss to loss_val\n",
        "            loss_val += loss\n",
        "\n",
        "        ##TODO: calculate the average loss of validation\n",
        "        avg_loss_val = loss_val/10000\n",
        "\n",
        "        ##TODO: calculate the average accuracy of validation\n",
        "        avg_acc_val = correct_val/10000\n",
        "\n",
        "        ##TODO: append average epoch loss to loss list of validation\n",
        "        loss_list_val.append(avg_loss_val)\n",
        "\n",
        "        ##TODO: append average accuracy to accuracy list of validation\n",
        "        acc_list_val.append(avg_acc_val)\n",
        "\n",
        "    print('[epoch %d] loss: %.5f accuracy: %.4f val loss: %.5f val accuracy: %.4f' % (epoch + 1, avg_loss, avg_acc, avg_loss_val, avg_acc_val))"
      ]
    },
    {
      "cell_type": "markdown",
      "metadata": {
        "id": "Wng2CmJt_C1j"
      },
      "source": [
        "## 5.2 {-}"
      ]
    },
    {
      "cell_type": "code",
      "execution_count": 29,
      "metadata": {
        "colab": {
          "base_uri": "https://localhost:8080/",
          "height": 297
        },
        "id": "XS4fyVWH4SQT",
        "outputId": "30334b27-cce3-4799-dce4-004af9d02850"
      },
      "outputs": [
        {
          "data": {
            "text/plain": [
              "[<matplotlib.lines.Line2D at 0x7f6614e1b640>]"
            ]
          },
          "execution_count": 29,
          "metadata": {},
          "output_type": "execute_result"
        },
        {
          "data": {
            "image/png": "[encoded data removed]",
            "text/plain": [
              "<Figure size 432x288 with 1 Axes>"
            ]
          },
          "metadata": {
            "needs_background": "light"
          },
          "output_type": "display_data"
        }
      ],
      "source": [
        "x = range(1,51)\n",
        "loss_list1 = [l.item() for l in loss_list] \n",
        "loss_list_val1 = [l.item() for l in loss_list_val] \n",
        "\n",
        "plt.xlabel('epoch')\n",
        "plt.ylabel('loss')\n",
        "plt.plot(x, loss_list1)\n",
        "plt.plot(x, loss_list_val1)\n"
      ]
    },
    {
      "cell_type": "code",
      "execution_count": 30,
      "metadata": {
        "colab": {
          "base_uri": "https://localhost:8080/",
          "height": 300
        },
        "id": "v1K6ZW0q-YSL",
        "outputId": "45c98a68-234f-449f-9d15-668f3a86db97"
      },
      "outputs": [
        {
          "data": {
            "text/plain": [
              "[<matplotlib.lines.Line2D at 0x7f6614df0940>]"
            ]
          },
          "execution_count": 30,
          "metadata": {},
          "output_type": "execute_result"
        },
        {
          "data": {
            "image/png": "[encoded data removed]",
            "text/plain": [
              "<Figure size 432x288 with 1 Axes>"
            ]
          },
          "metadata": {
            "needs_background": "light"
          },
          "output_type": "display_data"
        }
      ],
      "source": [
        "plt.xlabel('epoch')\n",
        "plt.ylabel('accuracy')\n",
        "plt.plot(x, acc_list)\n",
        "plt.plot(x, acc_list_val)\n"
      ]
    },
    {
      "cell_type": "markdown",
      "metadata": {
        "id": "N-gSXvhn_aKs"
      },
      "source": [
        "## 5.3 {-}"
      ]
    },
    {
      "cell_type": "code",
      "execution_count": 37,
      "metadata": {
        "colab": {
          "base_uri": "https://localhost:8080/",
          "height": 0
        },
        "id": "1JtPGxgZ_fEP",
        "outputId": "77fb76d1-3389-4b10-e41a-aa7fb54956df"
      },
      "outputs": [
        {
          "name": "stdout",
          "output_type": "stream",
          "text": [
            "Accuracy on the 10000 test images: 66.97 %\n"
          ]
        }
      ],
      "source": [
        "#Test\n",
        "true_labels = []\n",
        "predictions = []\n",
        "correct_test = 0\n",
        "net.eval()\n",
        "with torch.no_grad():\n",
        "    for batch_idx, (data, label) in enumerate(test_loader):\n",
        "        data, label = data.to(device), label.to(device)\n",
        "        ##TODO: pass the data into the network and store the output\n",
        "        output = net(data)\n",
        "\n",
        "        ##TODO: Get the prediction from the output\n",
        "        _,preds = torch.max(output.data, 1)\n",
        "        #print(preds)\n",
        "        #print(label)\n",
        "        #break\n",
        "\n",
        "\n",
        "        ##TODO: Calculate the correct number and add the number to correct_test\n",
        "        correct_test += (preds == label).sum().item()\n",
        "\n",
        "        ##TODO: update predictions list and true label list\n",
        "        ##We can directly append the value because here batch_size=1\n",
        "        true_labels.append(label[0].item())\n",
        "        predictions.append(output.argmax(axis=1).item())\n",
        "\n",
        "\n",
        "\n",
        "\n",
        "\n",
        "print('Accuracy on the 10000 test images: %.2f %%' % (100 * correct_test / len(test_set)))"
      ]
    },
    {
      "cell_type": "code",
      "execution_count": 40,
      "metadata": {
        "colab": {
          "base_uri": "https://localhost:8080/",
          "height": 0
        },
        "id": "poKwnQahE6Ix",
        "outputId": "fc88dfbf-f68c-450c-8830-b78c7cbcce5c"
      },
      "outputs": [
        {
          "data": {
            "text/plain": [
              "array([[717,  29,  74,  16,  21,   9,  17,  17,  47,  53],\n",
              "       [ 20, 787,  10,   7,   9,   5,  19,   4,  27, 112],\n",
              "       [ 64,  11, 579,  38,  74,  60,  95,  51,   9,  19],\n",
              "       [ 37,  19,  86, 366,  89, 158, 151,  54,  15,  25],\n",
              "       [ 31,   5, 102,  37, 601,  31, 119,  66,   3,   5],\n",
              "       [ 19,   8,  82, 133,  59, 527,  77,  81,   6,   8],\n",
              "       [  5,   6,  51,  24,  27,  14, 858,   8,   5,   2],\n",
              "       [ 20,   7,  48,  39,  61,  47,  24, 733,   4,  17],\n",
              "       [102,  49,  28,  13,   8,   3,   8,   2, 738,  49],\n",
              "       [ 31,  88,   8,  10,  13,   4,  14,  22,  19, 791]])"
            ]
          },
          "execution_count": 40,
          "metadata": {},
          "output_type": "execute_result"
        }
      ],
      "source": [
        "conf_mat = confusion_matrix(true_labels, predictions)\n",
        "conf_mat"
      ]
    },
    {
      "cell_type": "markdown",
      "metadata": {
        "id": "hRVJUf6tGSb6"
      },
      "source": [
        "From the confusion matrix the we see that class 4 and class 6 were the two most misclassified images. This makes sense because class 4 is cats and clas 6 is dogs and these animals look very similar and have very similar features which will result in mislabeling."
      ]
    }
  ],
  "metadata": {
    "colab": {
      "provenance": []
    },
    "kernelspec": {
      "display_name": "Python 3.10.6 ('base')",
      "language": "python",
      "name": "python3"
    },
    "language_info": {
      "name": "python",
      "version": "3.10.6"
    },
    "vscode": {
      "interpreter": {
        "hash": "88caf069edf20051aa562fca5c59ddb764012baca65fbe1d1bef7ace59050dda"
      }
    },
    "widgets": {
      "application/vnd.jupyter.widget-state+json": {
        "22332057760f40ab8e37c0fb3d95e110": {
          "model_module": "@jupyter-widgets/base",
          "model_module_version": "1.2.0",
          "model_name": "LayoutModel",
          "state": {
            "_model_module": "@jupyter-widgets/base",
            "_model_module_version": "1.2.0",
            "_model_name": "LayoutModel",
            "_view_count": null,
            "_view_module": "@jupyter-widgets/base",
            "_view_module_version": "1.2.0",
            "_view_name": "LayoutView",
            "align_content": null,
            "align_items": null,
            "align_self": null,
            "border": null,
            "bottom": null,
            "display": null,
            "flex": null,
            "flex_flow": null,
            "grid_area": null,
            "grid_auto_columns": null,
            "grid_auto_flow": null,
            "grid_auto_rows": null,
            "grid_column": null,
            "grid_gap": null,
            "grid_row": null,
            "grid_template_areas": null,
            "grid_template_columns": null,
            "grid_template_rows": null,
            "height": null,
            "justify_content": null,
            "justify_items": null,
            "left": null,
            "margin": null,
            "max_height": null,
            "max_width": null,
            "min_height": null,
            "min_width": null,
            "object_fit": null,
            "object_position": null,
            "order": null,
            "overflow": null,
            "overflow_x": null,
            "overflow_y": null,
            "padding": null,
            "right": null,
            "top": null,
            "visibility": null,
            "width": null
          }
        },
        "30c9a4be73c24e07a68831722f6d49ae": {
          "model_module": "@jupyter-widgets/controls",
          "model_module_version": "1.5.0",
          "model_name": "HTMLModel",
          "state": {
            "_dom_classes": [],
            "_model_module": "@jupyter-widgets/controls",
            "_model_module_version": "1.5.0",
            "_model_name": "HTMLModel",
            "_view_count": null,
            "_view_module": "@jupyter-widgets/controls",
            "_view_module_version": "1.5.0",
            "_view_name": "HTMLView",
            "description": "",
            "description_tooltip": null,
            "layout": "IPY_MODEL_d26221069b594996b0459d887b34c41a",
            "placeholder": "​",
            "style": "IPY_MODEL_3338858814174eb1aa88e361d4784360",
            "value": " 170498071/170498071 [00:02&lt;00:00, 89703993.43it/s]"
          }
        },
        "3338858814174eb1aa88e361d4784360": {
          "model_module": "@jupyter-widgets/controls",
          "model_module_version": "1.5.0",
          "model_name": "DescriptionStyleModel",
          "state": {
            "_model_module": "@jupyter-widgets/controls",
            "_model_module_version": "1.5.0",
            "_model_name": "DescriptionStyleModel",
            "_view_count": null,
            "_view_module": "@jupyter-widgets/base",
            "_view_module_version": "1.2.0",
            "_view_name": "StyleView",
            "description_width": ""
          }
        },
        "53e7f739be9b475da6c8c8b15c68edbd": {
          "model_module": "@jupyter-widgets/controls",
          "model_module_version": "1.5.0",
          "model_name": "FloatProgressModel",
          "state": {
            "_dom_classes": [],
            "_model_module": "@jupyter-widgets/controls",
            "_model_module_version": "1.5.0",
            "_model_name": "FloatProgressModel",
            "_view_count": null,
            "_view_module": "@jupyter-widgets/controls",
            "_view_module_version": "1.5.0",
            "_view_name": "ProgressView",
            "bar_style": "success",
            "description": "",
            "description_tooltip": null,
            "layout": "IPY_MODEL_d4984868e6294e30aa8ccc65084cf23e",
            "max": 170498071,
            "min": 0,
            "orientation": "horizontal",
            "style": "IPY_MODEL_5cb884a9eee04e48b6023b760085c840",
            "value": 170498071
          }
        },
        "540201873cfc4d94ab7366b1a2da6658": {
          "model_module": "@jupyter-widgets/base",
          "model_module_version": "1.2.0",
          "model_name": "LayoutModel",
          "state": {
            "_model_module": "@jupyter-widgets/base",
            "_model_module_version": "1.2.0",
            "_model_name": "LayoutModel",
            "_view_count": null,
            "_view_module": "@jupyter-widgets/base",
            "_view_module_version": "1.2.0",
            "_view_name": "LayoutView",
            "align_content": null,
            "align_items": null,
            "align_self": null,
            "border": null,
            "bottom": null,
            "display": null,
            "flex": null,
            "flex_flow": null,
            "grid_area": null,
            "grid_auto_columns": null,
            "grid_auto_flow": null,
            "grid_auto_rows": null,
            "grid_column": null,
            "grid_gap": null,
            "grid_row": null,
            "grid_template_areas": null,
            "grid_template_columns": null,
            "grid_template_rows": null,
            "height": null,
            "justify_content": null,
            "justify_items": null,
            "left": null,
            "margin": null,
            "max_height": null,
            "max_width": null,
            "min_height": null,
            "min_width": null,
            "object_fit": null,
            "object_position": null,
            "order": null,
            "overflow": null,
            "overflow_x": null,
            "overflow_y": null,
            "padding": null,
            "right": null,
            "top": null,
            "visibility": null,
            "width": null
          }
        },
        "5cb884a9eee04e48b6023b760085c840": {
          "model_module": "@jupyter-widgets/controls",
          "model_module_version": "1.5.0",
          "model_name": "ProgressStyleModel",
          "state": {
            "_model_module": "@jupyter-widgets/controls",
            "_model_module_version": "1.5.0",
            "_model_name": "ProgressStyleModel",
            "_view_count": null,
            "_view_module": "@jupyter-widgets/base",
            "_view_module_version": "1.2.0",
            "_view_name": "StyleView",
            "bar_color": null,
            "description_width": ""
          }
        },
        "6a56c1174a3444699a5cea69afe310ba": {
          "model_module": "@jupyter-widgets/controls",
          "model_module_version": "1.5.0",
          "model_name": "DescriptionStyleModel",
          "state": {
            "_model_module": "@jupyter-widgets/controls",
            "_model_module_version": "1.5.0",
            "_model_name": "DescriptionStyleModel",
            "_view_count": null,
            "_view_module": "@jupyter-widgets/base",
            "_view_module_version": "1.2.0",
            "_view_name": "StyleView",
            "description_width": ""
          }
        },
        "b91d4be04fa6444f8020c0644ec5b66e": {
          "model_module": "@jupyter-widgets/controls",
          "model_module_version": "1.5.0",
          "model_name": "HTMLModel",
          "state": {
            "_dom_classes": [],
            "_model_module": "@jupyter-widgets/controls",
            "_model_module_version": "1.5.0",
            "_model_name": "HTMLModel",
            "_view_count": null,
            "_view_module": "@jupyter-widgets/controls",
            "_view_module_version": "1.5.0",
            "_view_name": "HTMLView",
            "description": "",
            "description_tooltip": null,
            "layout": "IPY_MODEL_540201873cfc4d94ab7366b1a2da6658",
            "placeholder": "​",
            "style": "IPY_MODEL_6a56c1174a3444699a5cea69afe310ba",
            "value": "100%"
          }
        },
        "bd916c5e3ff440839e10564b7700843e": {
          "model_module": "@jupyter-widgets/controls",
          "model_module_version": "1.5.0",
          "model_name": "HBoxModel",
          "state": {
            "_dom_classes": [],
            "_model_module": "@jupyter-widgets/controls",
            "_model_module_version": "1.5.0",
            "_model_name": "HBoxModel",
            "_view_count": null,
            "_view_module": "@jupyter-widgets/controls",
            "_view_module_version": "1.5.0",
            "_view_name": "HBoxView",
            "box_style": "",
            "children": [
              "IPY_MODEL_b91d4be04fa6444f8020c0644ec5b66e",
              "IPY_MODEL_53e7f739be9b475da6c8c8b15c68edbd",
              "IPY_MODEL_30c9a4be73c24e07a68831722f6d49ae"
            ],
            "layout": "IPY_MODEL_22332057760f40ab8e37c0fb3d95e110"
          }
        },
        "d26221069b594996b0459d887b34c41a": {
          "model_module": "@jupyter-widgets/base",
          "model_module_version": "1.2.0",
          "model_name": "LayoutModel",
          "state": {
            "_model_module": "@jupyter-widgets/base",
            "_model_module_version": "1.2.0",
            "_model_name": "LayoutModel",
            "_view_count": null,
            "_view_module": "@jupyter-widgets/base",
            "_view_module_version": "1.2.0",
            "_view_name": "LayoutView",
            "align_content": null,
            "align_items": null,
            "align_self": null,
            "border": null,
            "bottom": null,
            "display": null,
            "flex": null,
            "flex_flow": null,
            "grid_area": null,
            "grid_auto_columns": null,
            "grid_auto_flow": null,
            "grid_auto_rows": null,
            "grid_column": null,
            "grid_gap": null,
            "grid_row": null,
            "grid_template_areas": null,
            "grid_template_columns": null,
            "grid_template_rows": null,
            "height": null,
            "justify_content": null,
            "justify_items": null,
            "left": null,
            "margin": null,
            "max_height": null,
            "max_width": null,
            "min_height": null,
            "min_width": null,
            "object_fit": null,
            "object_position": null,
            "order": null,
            "overflow": null,
            "overflow_x": null,
            "overflow_y": null,
            "padding": null,
            "right": null,
            "top": null,
            "visibility": null,
            "width": null
          }
        },
        "d4984868e6294e30aa8ccc65084cf23e": {
          "model_module": "@jupyter-widgets/base",
          "model_module_version": "1.2.0",
          "model_name": "LayoutModel",
          "state": {
            "_model_module": "@jupyter-widgets/base",
            "_model_module_version": "1.2.0",
            "_model_name": "LayoutModel",
            "_view_count": null,
            "_view_module": "@jupyter-widgets/base",
            "_view_module_version": "1.2.0",
            "_view_name": "LayoutView",
            "align_content": null,
            "align_items": null,
            "align_self": null,
            "border": null,
            "bottom": null,
            "display": null,
            "flex": null,
            "flex_flow": null,
            "grid_area": null,
            "grid_auto_columns": null,
            "grid_auto_flow": null,
            "grid_auto_rows": null,
            "grid_column": null,
            "grid_gap": null,
            "grid_row": null,
            "grid_template_areas": null,
            "grid_template_columns": null,
            "grid_template_rows": null,
            "height": null,
            "justify_content": null,
            "justify_items": null,
            "left": null,
            "margin": null,
            "max_height": null,
            "max_width": null,
            "min_height": null,
            "min_width": null,
            "object_fit": null,
            "object_position": null,
            "order": null,
            "overflow": null,
            "overflow_x": null,
            "overflow_y": null,
            "padding": null,
            "right": null,
            "top": null,
            "visibility": null,
            "width": null
          }
        }
      }
    }
  },
  "nbformat": 4,
  "nbformat_minor": 0
}
